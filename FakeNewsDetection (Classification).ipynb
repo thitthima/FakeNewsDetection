{
 "cells": [
  {
   "cell_type": "code",
   "execution_count": 1,
   "metadata": {},
   "outputs": [],
   "source": [
    "import pandas as pd"
   ]
  },
  {
   "cell_type": "code",
   "execution_count": 2,
   "metadata": {},
   "outputs": [],
   "source": [
    "from sklearn.feature_extraction.text import CountVectorizer, TfidfVectorizer\n",
    "from sklearn.linear_model import PassiveAggressiveClassifier, SGDClassifier\n",
    "from sklearn.svm import LinearSVC\n",
    "from sklearn.naive_bayes import MultinomialNB\n",
    "from sklearn import metrics\n",
    "import matplotlib.pyplot as plt\n",
    "from sklearn.utils import shuffle\n",
    "from sklearn.metrics import classification_report\n",
    "import seaborn as sns"
   ]
  },
  {
   "cell_type": "code",
   "execution_count": 3,
   "metadata": {},
   "outputs": [
    {
     "data": {
      "text/html": [
       "<div>\n",
       "<style scoped>\n",
       "    .dataframe tbody tr th:only-of-type {\n",
       "        vertical-align: middle;\n",
       "    }\n",
       "\n",
       "    .dataframe tbody tr th {\n",
       "        vertical-align: top;\n",
       "    }\n",
       "\n",
       "    .dataframe thead th {\n",
       "        text-align: right;\n",
       "    }\n",
       "</style>\n",
       "<table border=\"1\" class=\"dataframe\">\n",
       "  <thead>\n",
       "    <tr style=\"text-align: right;\">\n",
       "      <th></th>\n",
       "      <th>Unnamed: 0</th>\n",
       "      <th>title</th>\n",
       "      <th>text</th>\n",
       "      <th>label</th>\n",
       "    </tr>\n",
       "  </thead>\n",
       "  <tbody>\n",
       "    <tr>\n",
       "      <td>0</td>\n",
       "      <td>8476</td>\n",
       "      <td>You Can Smell Hillary’s Fear</td>\n",
       "      <td>Daniel Greenfield, a Shillman Journalism Fello...</td>\n",
       "      <td>FAKE</td>\n",
       "    </tr>\n",
       "    <tr>\n",
       "      <td>1</td>\n",
       "      <td>10294</td>\n",
       "      <td>Watch The Exact Moment Paul Ryan Committed Pol...</td>\n",
       "      <td>Google Pinterest Digg Linkedin Reddit Stumbleu...</td>\n",
       "      <td>FAKE</td>\n",
       "    </tr>\n",
       "    <tr>\n",
       "      <td>2</td>\n",
       "      <td>3608</td>\n",
       "      <td>Kerry to go to Paris in gesture of sympathy</td>\n",
       "      <td>U.S. Secretary of State John F. Kerry said Mon...</td>\n",
       "      <td>REAL</td>\n",
       "    </tr>\n",
       "    <tr>\n",
       "      <td>3</td>\n",
       "      <td>10142</td>\n",
       "      <td>Bernie supporters on Twitter erupt in anger ag...</td>\n",
       "      <td>— Kaydee King (@KaydeeKing) November 9, 2016 T...</td>\n",
       "      <td>FAKE</td>\n",
       "    </tr>\n",
       "    <tr>\n",
       "      <td>4</td>\n",
       "      <td>875</td>\n",
       "      <td>The Battle of New York: Why This Primary Matters</td>\n",
       "      <td>It's primary day in New York and front-runners...</td>\n",
       "      <td>REAL</td>\n",
       "    </tr>\n",
       "  </tbody>\n",
       "</table>\n",
       "</div>"
      ],
      "text/plain": [
       "   Unnamed: 0                                              title  \\\n",
       "0        8476                       You Can Smell Hillary’s Fear   \n",
       "1       10294  Watch The Exact Moment Paul Ryan Committed Pol...   \n",
       "2        3608        Kerry to go to Paris in gesture of sympathy   \n",
       "3       10142  Bernie supporters on Twitter erupt in anger ag...   \n",
       "4         875   The Battle of New York: Why This Primary Matters   \n",
       "\n",
       "                                                text label  \n",
       "0  Daniel Greenfield, a Shillman Journalism Fello...  FAKE  \n",
       "1  Google Pinterest Digg Linkedin Reddit Stumbleu...  FAKE  \n",
       "2  U.S. Secretary of State John F. Kerry said Mon...  REAL  \n",
       "3  — Kaydee King (@KaydeeKing) November 9, 2016 T...  FAKE  \n",
       "4  It's primary day in New York and front-runners...  REAL  "
      ]
     },
     "execution_count": 3,
     "metadata": {},
     "output_type": "execute_result"
    }
   ],
   "source": [
    "train = pd.read_csv(r'C:/Users/User/Desktop/UTeM/Data Science/Project/news.csv')\n",
    "train.head()"
   ]
  },
  {
   "cell_type": "code",
   "execution_count": 11,
   "metadata": {},
   "outputs": [],
   "source": [
    "train_dict = {'Title':train['title'],\n",
    "          'Text':train[\"text\"],\n",
    "          'Label':train['label']}\n",
    "train_df = pd.DataFrame(train_dict)"
   ]
  },
  {
   "cell_type": "code",
   "execution_count": 12,
   "metadata": {},
   "outputs": [
    {
     "data": {
      "text/plain": [
       "Title    6335\n",
       "Text     6335\n",
       "Label    6335\n",
       "dtype: int64"
      ]
     },
     "execution_count": 12,
     "metadata": {},
     "output_type": "execute_result"
    }
   ],
   "source": [
    "train_df.count()"
   ]
  },
  {
   "cell_type": "code",
   "execution_count": 15,
   "metadata": {},
   "outputs": [
    {
     "name": "stdout",
     "output_type": "stream",
     "text": [
      "Title    3164\n",
      "Text     3164\n",
      "Label    3164\n",
      "dtype: int64\n",
      "Title    3171\n",
      "Text     3171\n",
      "Label    3171\n",
      "dtype: int64\n"
     ]
    }
   ],
   "source": [
    "fake_set = train_df.loc[train_df['Label'] == 'FAKE']\n",
    "real_set = train_df.loc[train_df['Label'] == 'REAL']\n",
    "print(fake_set.count())\n",
    "print(real_set.count())"
   ]
  },
  {
   "cell_type": "code",
   "execution_count": 16,
   "metadata": {},
   "outputs": [],
   "source": [
    "real_train_data = pd.concat([fake_set,real_set])"
   ]
  },
  {
   "cell_type": "code",
   "execution_count": 17,
   "metadata": {},
   "outputs": [],
   "source": [
    "real_train_data = shuffle(real_train_data)"
   ]
  },
  {
   "cell_type": "code",
   "execution_count": 18,
   "metadata": {},
   "outputs": [
    {
     "data": {
      "text/plain": [
       "Index(['Title', 'Text', 'Label'], dtype='object')"
      ]
     },
     "execution_count": 18,
     "metadata": {},
     "output_type": "execute_result"
    }
   ],
   "source": [
    "real_train_data.columns"
   ]
  },
  {
   "cell_type": "code",
   "execution_count": 27,
   "metadata": {},
   "outputs": [
    {
     "data": {
      "text/html": [
       "<div>\n",
       "<style scoped>\n",
       "    .dataframe tbody tr th:only-of-type {\n",
       "        vertical-align: middle;\n",
       "    }\n",
       "\n",
       "    .dataframe tbody tr th {\n",
       "        vertical-align: top;\n",
       "    }\n",
       "\n",
       "    .dataframe thead th {\n",
       "        text-align: right;\n",
       "    }\n",
       "</style>\n",
       "<table border=\"1\" class=\"dataframe\">\n",
       "  <thead>\n",
       "    <tr style=\"text-align: right;\">\n",
       "      <th></th>\n",
       "      <th>title</th>\n",
       "      <th>text</th>\n",
       "      <th>subject</th>\n",
       "      <th>label</th>\n",
       "    </tr>\n",
       "  </thead>\n",
       "  <tbody>\n",
       "    <tr>\n",
       "      <td>0</td>\n",
       "      <td>Donald Trump Sends Out Embarrassing New Year...</td>\n",
       "      <td>Donald Trump just couldn t wish all Americans ...</td>\n",
       "      <td>News</td>\n",
       "      <td>FAKE</td>\n",
       "    </tr>\n",
       "    <tr>\n",
       "      <td>1</td>\n",
       "      <td>Drunk Bragging Trump Staffer Started Russian ...</td>\n",
       "      <td>House Intelligence Committee Chairman Devin Nu...</td>\n",
       "      <td>News</td>\n",
       "      <td>FAKE</td>\n",
       "    </tr>\n",
       "    <tr>\n",
       "      <td>2</td>\n",
       "      <td>BARBRA STREISAND Gives Up On Dream Of Impeachi...</td>\n",
       "      <td>Barbra Streisand was an Obama sycophant and on...</td>\n",
       "      <td>left-news</td>\n",
       "      <td>FAKE</td>\n",
       "    </tr>\n",
       "    <tr>\n",
       "      <td>3</td>\n",
       "      <td>WATCH: SENATOR LINDSEY GRAHAM DROPS BOMBSHELL",
       "...</td>\n",
       "      <td>Everyone suspected the sketchy Steele Dossier ...</td>\n",
       "      <td>left-news</td>\n",
       "      <td>FAKE</td>\n",
       "    </tr>\n",
       "    <tr>\n",
       "      <td>4</td>\n",
       "      <td>Sheriff David Clarke Becomes An Internet Joke...</td>\n",
       "      <td>On Friday, it was revealed that former Milwauk...</td>\n",
       "      <td>News</td>\n",
       "      <td>FAKE</td>\n",
       "    </tr>\n",
       "  </tbody>\n",
       "</table>\n",
       "</div>"
      ],
      "text/plain": [
       "                                               title  \\\n",
       "0   Donald Trump Sends Out Embarrassing New Year...   \n",
       "1   Drunk Bragging Trump Staffer Started Russian ...   \n",
       "2  BARBRA STREISAND Gives Up On Dream Of Impeachi...   \n",
       "3  WATCH: SENATOR LINDSEY GRAHAM DROPS BOMBSHELL\n",
       "...   \n",
       "4   Sheriff David Clarke Becomes An Internet Joke...   \n",
       "\n",
       "                                                text    subject label  \n",
       "0  Donald Trump just couldn t wish all Americans ...       News  FAKE  \n",
       "1  House Intelligence Committee Chairman Devin Nu...       News  FAKE  \n",
       "2  Barbra Streisand was an Obama sycophant and on...  left-news  FAKE  \n",
       "3  Everyone suspected the sketchy Steele Dossier ...  left-news  FAKE  \n",
       "4  On Friday, it was revealed that former Milwauk...       News  FAKE  "
      ]
     },
     "execution_count": 27,
     "metadata": {},
     "output_type": "execute_result"
    }
   ],
   "source": [
    "test = pd.read_excel(r'C:/Users/User/Desktop/UTeM/Data Science/Project/Test_data.xlsx')\n",
    "test.head()"
   ]
  },
  {
   "cell_type": "code",
   "execution_count": 29,
   "metadata": {},
   "outputs": [],
   "source": [
    "test_dict = {'Title':test['title'],\n",
    "          'Text':test['text'],\n",
    "          'Label':test['label']}\n",
    "test_df = pd.DataFrame(test_dict)"
   ]
  },
  {
   "cell_type": "code",
   "execution_count": 32,
   "metadata": {},
   "outputs": [
    {
     "name": "stdout",
     "output_type": "stream",
     "text": [
      "Title    104\n",
      "Text     104\n",
      "Label    104\n",
      "dtype: int64\n",
      "Title    174\n",
      "Text     174\n",
      "Label    174\n",
      "dtype: int64\n"
     ]
    }
   ],
   "source": [
    "test_fake_set = test_df.loc[test_df['Label'] == 'FAKE']\n",
    "test_real_set = test_df.loc[test_df['Label'] == 'REAL']\n",
    "print(test_fake_set.count())\n",
    "print(test_real_set.count())"
   ]
  },
  {
   "cell_type": "code",
   "execution_count": 33,
   "metadata": {},
   "outputs": [],
   "source": [
    "## concatinating true and false labeled datasets\n",
    "real_test_data = pd.concat([test_fake_set,test_real_set])\n",
    "## shuffling real_train_data\n",
    "real_test_data = shuffle(real_test_data)"
   ]
  },
  {
   "cell_type": "code",
   "execution_count": 42,
   "metadata": {},
   "outputs": [],
   "source": [
    "## CountVectorizer tokenizes the collection of text documents and build a vocabulary of known words it returns ints \n",
    "count_vectorizer = CountVectorizer(stop_words = 'english')\n",
    "\n",
    "## function of fit_transform is fit and transform the function for feature extraction \n",
    "count_train = count_vectorizer.fit_transform(real_train_data['Title'])\n",
    "\n",
    "## transforms documents to document-type matrix\n",
    "count_test = count_vectorizer.transform(real_test_data['Title'])"
   ]
  },
  {
   "cell_type": "code",
   "execution_count": 43,
   "metadata": {},
   "outputs": [],
   "source": [
    "## TfidVectorizer is same as CountVectorizer but it returns float  values. In the below I'd compare the both values it false \n",
    "tfidf_vectorizer = TfidfVectorizer(stop_words='english', max_df=0.7)\n",
    "\n",
    "## function of fit_transform is fit and transform the function for feature extraction \n",
    "tfidf_train = tfidf_vectorizer.fit_transform(train_df['Title'])\n",
    "\n",
    "## transforms documents to document-type matrix\n",
    "tfidf_test = tfidf_vectorizer.transform(test_df['Title'])"
   ]
  },
  {
   "cell_type": "code",
   "execution_count": 44,
   "metadata": {},
   "outputs": [
    {
     "name": "stdout",
     "output_type": "stream",
     "text": [
      "['00', '000', '00pm', '01', '04', '05', '06', '08', '10', '100']\n",
      "[[0. 0. 0. ... 0. 0. 0.]\n",
      " [0. 0. 0. ... 0. 0. 0.]\n",
      " [0. 0. 0. ... 0. 0. 0.]\n",
      " [0. 0. 0. ... 0. 0. 0.]\n",
      " [0. 0. 0. ... 0. 0. 0.]]\n"
     ]
    }
   ],
   "source": [
    "print(tfidf_vectorizer.get_feature_names()[:10])\n",
    "print(tfidf_train.A[:5])"
   ]
  },
  {
   "cell_type": "code",
   "execution_count": 47,
   "metadata": {},
   "outputs": [
    {
     "data": {
      "text/plain": [
       "(6335, 9820)"
      ]
     },
     "execution_count": 47,
     "metadata": {},
     "output_type": "execute_result"
    }
   ],
   "source": [
    "tfidf_train.shape"
   ]
  },
  {
   "cell_type": "code",
   "execution_count": 95,
   "metadata": {},
   "outputs": [
    {
     "name": "stdout",
     "output_type": "stream",
     "text": [
      "Confusion Matrix\n",
      "[[148  26]\n",
      " [ 32  72]]\n",
      "Multinomial Naive Bayes accuracy:   0.791\n"
     ]
    }
   ],
   "source": [
    "## Instantiate a Multinomial Naive Bayes classifier: nb_classifier\n",
    "nb_classifier = MultinomialNB()\n",
    "\n",
    "## Fit the classifier to the training data\n",
    "nb_classifier.fit(count_train, real_train_data['Label'])\n",
    "\n",
    "## Create the predicted tags: pred\n",
    "mnb_pred = nb_classifier.predict(count_test)\n",
    "\n",
    "## Create the predicted tags: pred\n",
    "mnb_score = metrics.accuracy_score(real_test_data['Label'], mnb_pred)\n",
    "\n",
    "## Calculate the confusion matrix: mnb_cm\n",
    "mnb_cm = metrics.confusion_matrix(real_test_data['Label'], mnb_pred, labels=['REAL', 'FAKE'])\n",
    "print('Confusion Matrix')\n",
    "print(mnb_cm)\n",
    "print(\"Multinomial Naive Bayes accuracy:   %0.3f\" % mnb_score)"
   ]
  },
  {
   "cell_type": "code",
   "execution_count": 96,
   "metadata": {},
   "outputs": [
    {
     "name": "stdout",
     "output_type": "stream",
     "text": [
      "              precision    recall  f1-score   support\n",
      "\n",
      "        FAKE       0.73      0.69      0.71       104\n",
      "        REAL       0.82      0.85      0.84       174\n",
      "\n",
      "    accuracy                           0.79       278\n",
      "   macro avg       0.78      0.77      0.77       278\n",
      "weighted avg       0.79      0.79      0.79       278\n",
      "\n"
     ]
    },
    {
     "data": {
      "image/png": "[encoded data removed]",
      "text/plain": [
       "<Figure size 360x360 with 2 Axes>"
      ]
     },
     "metadata": {
      "needs_background": "light"
     },
     "output_type": "display_data"
    }
   ],
   "source": [
    "mnb_cm = metrics.confusion_matrix(real_test_data['Label'],mnb_pred)\n",
    "plt.show()\n",
    "plt.figure(figsize=(5,5))\n",
    "sns.heatmap(mnb_cm, annot=True, linewidth=.5, square = True, cmap = 'Blues_r',fmt='f');\n",
    "plt.ylabel('Actual label');\n",
    "plt.xlabel('Predicted label');\n",
    "plt.title('Confusion Matrix', size = 10);\n",
    "\n",
    "report = classification_report(real_test_data['Label'],mnb_pred)\n",
    "print(report)"
   ]
  },
  {
   "cell_type": "code",
   "execution_count": 97,
   "metadata": {},
   "outputs": [
    {
     "name": "stdout",
     "output_type": "stream",
     "text": [
      "Confusion Matrix --- PassiveAggressiveClassifier\n",
      "[[135  39]\n",
      " [ 32  72]]\n",
      "accuracy:   0.745\n"
     ]
    }
   ],
   "source": [
    "## Passive Aggressive Classifier\n",
    "## Instantiating a Passive Aggressive Classifier classifier: pa_tfidf_clf\n",
    "pa_tfidf_clf = PassiveAggressiveClassifier()\n",
    "\n",
    "## Fit the classifier to the training data\n",
    "pa_tfidf_clf.fit(count_train, real_train_data['Label'])\n",
    "\n",
    "## Create the predicted tags: pac_pred\n",
    "pac_pred = pa_tfidf_clf.predict(count_test)\n",
    "## Calculate the accuracy score: pac_score\n",
    "pac_score = metrics.accuracy_score(real_test_data['Label'], pac_pred)\n",
    "\n",
    "## Calculate the confusion matrix: pac_cm\n",
    "pac_cm = metrics.confusion_matrix(real_test_data['Label'], pac_pred, labels=['REAL', 'FAKE'])\n",
    "print('Confusion Matrix --- PassiveAggressiveClassifier')\n",
    "print(pac_cm)\n",
    "print(\"accuracy:   %0.3f\" % pac_score)"
   ]
  },
  {
   "cell_type": "code",
   "execution_count": 98,
   "metadata": {},
   "outputs": [
    {
     "name": "stdout",
     "output_type": "stream",
     "text": [
      "              precision    recall  f1-score   support\n",
      "\n",
      "        FAKE       0.65      0.69      0.67       104\n",
      "        REAL       0.81      0.78      0.79       174\n",
      "\n",
      "    accuracy                           0.74       278\n",
      "   macro avg       0.73      0.73      0.73       278\n",
      "weighted avg       0.75      0.74      0.75       278\n",
      "\n"
     ]
    },
    {
     "data": {
      "image/png": "[encoded data removed]",
      "text/plain": [
       "<Figure size 360x360 with 2 Axes>"
      ]
     },
     "metadata": {
      "needs_background": "light"
     },
     "output_type": "display_data"
    }
   ],
   "source": [
    "pac_cm = metrics.confusion_matrix(real_test_data['Label'],pac_pred)\n",
    "plt.show()\n",
    "plt.figure(figsize=(5,5))\n",
    "sns.heatmap(pac_cm, annot=True, linewidth=.5, square = True, cmap = 'Blues_r',fmt='f');\n",
    "plt.ylabel('Actual label');\n",
    "plt.xlabel('Predicted label');\n",
    "plt.title('Confusion Matrix', size = 10);\n",
    "\n",
    "report = classification_report(real_test_data['Label'],pac_pred)\n",
    "print(report)"
   ]
  },
  {
   "cell_type": "code",
   "execution_count": 99,
   "metadata": {},
   "outputs": [
    {
     "name": "stdout",
     "output_type": "stream",
     "text": [
      "Confusion Matrix --- LinearSVC\n",
      "[[138  36]\n",
      " [ 29  75]]\n",
      "accuracy:   0.766\n"
     ]
    }
   ],
   "source": [
    "## Support Vector Classifier\n",
    "## Instantiate a Support Vector classifier: svc_tfidf_clf\n",
    "svc_tfidf_clf = LinearSVC()\n",
    "\n",
    "## Fit the classifier to the training data\n",
    "svc_tfidf_clf.fit(count_train, real_train_data['Label'])\n",
    "\n",
    "## Create the predicted tags: svc_pred\n",
    "svc_pred = svc_tfidf_clf.predict(count_test)\n",
    "\n",
    "## Calculate the accuracy score: svc_score\n",
    "svc_score = metrics.accuracy_score(real_test_data['Label'], svc_pred)\n",
    "\n",
    "## Calculate the confusion matrix: cm\n",
    "svc_cm = metrics.confusion_matrix(real_test_data['Label'], svc_pred, labels=['REAL', 'FAKE'])\n",
    "print('Confusion Matrix --- LinearSVC')\n",
    "print(svc_cm)\n",
    "print(\"accuracy:   %0.3f\" % svc_score)"
   ]
  },
  {
   "cell_type": "code",
   "execution_count": 100,
   "metadata": {},
   "outputs": [
    {
     "name": "stdout",
     "output_type": "stream",
     "text": [
      "              precision    recall  f1-score   support\n",
      "\n",
      "        FAKE       0.68      0.72      0.70       104\n",
      "        REAL       0.83      0.79      0.81       174\n",
      "\n",
      "    accuracy                           0.77       278\n",
      "   macro avg       0.75      0.76      0.75       278\n",
      "weighted avg       0.77      0.77      0.77       278\n",
      "\n"
     ]
    },
    {
     "data": {
      "image/png": "[encoded data removed]",
      "text/plain": [
       "<Figure size 360x360 with 2 Axes>"
      ]
     },
     "metadata": {
      "needs_background": "light"
     },
     "output_type": "display_data"
    }
   ],
   "source": [
    "svc_cm = metrics.confusion_matrix(real_test_data['Label'],svc_pred)\n",
    "plt.show()\n",
    "plt.figure(figsize=(5,5))\n",
    "sns.heatmap(svc_cm, annot=True, linewidth=.5, square = True, cmap = 'Blues_r',fmt='f');\n",
    "plt.ylabel('Actual label');\n",
    "plt.xlabel('Predicted label');\n",
    "plt.title('Confusion Matrix', size = 10);\n",
    "\n",
    "report = classification_report(real_test_data['Label'],svc_pred)\n",
    "print(report)"
   ]
  },
  {
   "cell_type": "code",
   "execution_count": 101,
   "metadata": {},
   "outputs": [
    {
     "name": "stdout",
     "output_type": "stream",
     "text": [
      "Confusion Matrix --- SGD Classifier\n",
      "[[135  39]\n",
      " [ 25  79]]\n",
      "accuracy:   0.770\n"
     ]
    }
   ],
   "source": [
    "## Stochastic Gradient Descent Classifier\n",
    "## Instantiate a Multinomial Naive Bayes classifier: sgd_tfidf_clf\n",
    "sgd_tfidf_clf = SGDClassifier()\n",
    "\n",
    "## Fit the classifier to the training data\n",
    "sgd_tfidf_clf.fit(count_train, real_train_data['Label'])\n",
    "\n",
    "## Create the predicted tags: sgd_pred\n",
    "sgd_pred = sgd_tfidf_clf.predict(count_test)\n",
    "\n",
    "## Calculate the accuracy score: score\n",
    "sgd_score = metrics.accuracy_score(real_test_data['Label'], sgd_pred)\n",
    "\n",
    "## Calculate the confusion matrix: cm\n",
    "sgd_cm = metrics.confusion_matrix(real_test_data['Label'], sgd_pred, labels=['REAL', 'FAKE'])\n",
    "print('Confusion Matrix --- SGD Classifier')\n",
    "print(sgd_cm)\n",
    "\n",
    "print(\"accuracy:   %0.3f\" % sgd_score)"
   ]
  },
  {
   "cell_type": "code",
   "execution_count": 102,
   "metadata": {},
   "outputs": [
    {
     "name": "stdout",
     "output_type": "stream",
     "text": [
      "              precision    recall  f1-score   support\n",
      "\n",
      "        FAKE       0.67      0.76      0.71       104\n",
      "        REAL       0.84      0.78      0.81       174\n",
      "\n",
      "    accuracy                           0.77       278\n",
      "   macro avg       0.76      0.77      0.76       278\n",
      "weighted avg       0.78      0.77      0.77       278\n",
      "\n"
     ]
    },
    {
     "data": {
      "image/png": "[encoded data removed]",
      "text/plain": [
       "<Figure size 360x360 with 2 Axes>"
      ]
     },
     "metadata": {
      "needs_background": "light"
     },
     "output_type": "display_data"
    }
   ],
   "source": [
    "sgd_cm = metrics.confusion_matrix(real_test_data['Label'],sgd_pred)\n",
    "plt.show()\n",
    "plt.figure(figsize=(5,5))\n",
    "sns.heatmap(sgd_cm, annot=True, linewidth=.5, square = True, cmap = 'Blues_r',fmt='f');\n",
    "plt.ylabel('Actual label');\n",
    "plt.xlabel('Predicted label');\n",
    "plt.title('Confusion Matrix', size = 10);\n",
    "\n",
    "report = classification_report(real_test_data['Label'],sgd_pred)\n",
    "print(report)"
   ]
  },
  {
   "cell_type": "code",
   "execution_count": null,
   "metadata": {},
   "outputs": [],
   "source": []
  },
  {
   "cell_type": "code",
   "execution_count": null,
   "metadata": {},
   "outputs": [],
   "source": []
  }
 ],
 "metadata": {
  "kernelspec": {
   "display_name": "Python 3",
   "language": "python",
   "name": "python3"
  },
  "language_info": {
   "codemirror_mode": {
    "name": "ipython",
    "version": 3
   },
   "file_extension": ".py",
   "mimetype": "text/x-python",
   "name": "python",
   "nbconvert_exporter": "python",
   "pygments_lexer": "ipython3",
   "version": "3.7.4"
  }
 },
 "nbformat": 4,
 "nbformat_minor": 2
}
